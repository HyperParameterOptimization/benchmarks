{
 "cells": [
  {
   "cell_type": "code",
   "execution_count": 1,
   "metadata": {
    "collapsed": false
   },
   "outputs": [
    {
     "name": "stdout",
     "output_type": "stream",
     "text": [
      "\n",
      "============================================================\n",
      "Parameter estimation using grid search with cross-validation\n",
      "============================================================\n",
      "\n",
      "This examples shows how a classifier is optimized by cross-validation,\n",
      "which is done using the :class:`sklearn.grid_search.GridSearchCV` object\n",
      "on a development set that comprises only half of the available labeled data.\n",
      "\n",
      "The performance of the selected hyper-parameters and trained model is\n",
      "then measured on a dedicated evaluation set that was not used during\n",
      "the model selection step.\n",
      "\n",
      "More details on tools available for model selection can be found in the\n",
      "sections on :ref:`cross_validation` and :ref:`grid_search`.\n",
      "\n",
      "\n"
     ]
    }
   ],
   "source": [
    "\"\"\"\n",
    "============================================================\n",
    "Parameter estimation using grid search with cross-validation\n",
    "============================================================\n",
    "\n",
    "This examples shows how a classifier is optimized by cross-validation,\n",
    "which is done using the :class:`sklearn.grid_search.GridSearchCV` object\n",
    "on a development set that comprises only half of the available labeled data.\n",
    "\n",
    "The performance of the selected hyper-parameters and trained model is\n",
    "then measured on a dedicated evaluation set that was not used during\n",
    "the model selection step.\n",
    "\n",
    "More details on tools available for model selection can be found in the\n",
    "sections on :ref:`cross_validation` and :ref:`grid_search`.\n",
    "\n",
    "\"\"\"\n",
    "\n",
    "from __future__ import print_function\n",
    "\n",
    "from sklearn import datasets\n",
    "from sklearn.cross_validation import train_test_split\n",
    "from sklearn.grid_search import GridSearchCV\n",
    "from sklearn.metrics import classification_report\n",
    "from sklearn.svm import SVC\n",
    "from random import randrange\n",
    "\n",
    "print(__doc__)\n"
   ]
  },
  {
   "cell_type": "code",
   "execution_count": 2,
   "metadata": {
    "collapsed": true
   },
   "outputs": [],
   "source": [
    "\n",
    "# Loading the Digits dataset\n",
    "digits = datasets.load_digits()\n",
    "\n",
    "# To apply an classifier on this data, we need to flatten the image, to\n",
    "# turn the data in a (samples, feature) matrix:\n",
    "n_samples = len(digits.images)\n",
    "X = digits.images.reshape((n_samples, -1))\n",
    "y = digits.target\n"
   ]
  },
  {
   "cell_type": "code",
   "execution_count": 3,
   "metadata": {
    "collapsed": false
   },
   "outputs": [],
   "source": [
    "def listadd(l1, l2):\n",
    "    return ([l1[i] + l2[i] for i in range(min(len(l1), len(l2)))])"
   ]
  },
  {
   "cell_type": "code",
   "execution_count": 4,
   "metadata": {
    "collapsed": false
   },
   "outputs": [],
   "source": [
    "def listmult(l1, factor):\n",
    "    return ([l1[i] *factor for i in range(len(l1))])\n"
   ]
  },
  {
   "cell_type": "code",
   "execution_count": 5,
   "metadata": {
    "collapsed": false
   },
   "outputs": [],
   "source": [
    "#put noise in featureset\n",
    "shadowFactor=0 #.3\n",
    "noiseRange=0\n",
    "\n",
    "for record in range(n_samples):\n",
    "    #add shadows\n",
    "    X[record]=listadd(X[record], listmult(X[randrange(0, n_samples-1)], shadowFactor))\n",
    "    \n",
    "    #add random noise\n",
    "    for datapoint in range(len(X[0])):\n",
    "        if noiseRange != 0:\n",
    "            X[record][datapoint]+=randrange(-1*noiseRange,noiseRange)\n",
    "        \n",
    "        #quantize the results and put in a limited range\n",
    "        X[record][datapoint]=int(max(0, min(15, X[record][datapoint])))\n"
   ]
  },
  {
   "cell_type": "code",
   "execution_count": 6,
   "metadata": {
    "collapsed": true
   },
   "outputs": [],
   "source": [
    "# Split the dataset in two equal parts\n",
    "X_train, X_test, y_train, y_test = train_test_split(\n",
    "    X, y, test_size=0.5, random_state=0)\n"
   ]
  },
  {
   "cell_type": "code",
   "execution_count": 7,
   "metadata": {
    "collapsed": false
   },
   "outputs": [
    {
     "name": "stdout",
     "output_type": "stream",
     "text": [
      "[{'coef0': [0, -0.1, 0.1], 'C': [1, 10, 100, 1000], 'gamma': [0.0005, 0.0001, 5e-05], 'kernel': ['sigmoid']}]\n"
     ]
    }
   ],
   "source": [
    "# Set the parameters by cross-validation\n",
    "tuned_parameters = [#{'kernel': ['rbf'], 'gamma': [1e-3, 1e-4],\n",
    "                     #'C': [1, 10, 100, 1000, 10000]},\n",
    "                    #{'kernel': ['linear'], 'C': [1, 10, 100, 1000, 10000]},\n",
    "                   #{'kernel':['poly'], 'C': [1, 10, 100, 1000, 10000], 'degree':[1,2,3,4,5], 'coef0':[0,-.1,.1]},\n",
    "                   {'kernel':['sigmoid'], 'C': [1, 10, 100, 1000], 'gamma': [5e-4, 1e-4, 5e-5], 'coef0':[0,-.1,.1]}\n",
    "                   ]\n",
    "\n",
    "scores = ['precision', 'recall']\n",
    "print(tuned_parameters)\n"
   ]
  },
  {
   "cell_type": "code",
   "execution_count": 8,
   "metadata": {
    "collapsed": false
   },
   "outputs": [
    {
     "name": "stdout",
     "output_type": "stream",
     "text": [
      "# Tuning hyper-parameters for precision\n",
      "\n",
      "Best parameters set found on development set:\n",
      "\n",
      "{'kernel': 'sigmoid', 'C': 1000, 'gamma': 5e-05, 'coef0': -0.1}\n",
      "\n",
      "Grid scores on development set:\n",
      "\n",
      "0.916 (+/-0.014) for {'kernel': 'sigmoid', 'C': 1, 'gamma': 0.0005, 'coef0': 0}\n",
      "0.943 (+/-0.025) for {'kernel': 'sigmoid', 'C': 1, 'gamma': 0.0001, 'coef0': 0}\n",
      "0.921 (+/-0.038) for {'kernel': 'sigmoid', 'C': 1, 'gamma': 5e-05, 'coef0': 0}\n",
      "0.915 (+/-0.019) for {'kernel': 'sigmoid', 'C': 1, 'gamma': 0.0005, 'coef0': -0.1}\n",
      "0.943 (+/-0.025) for {'kernel': 'sigmoid', 'C': 1, 'gamma': 0.0001, 'coef0': -0.1}\n",
      "0.922 (+/-0.039) for {'kernel': 'sigmoid', 'C': 1, 'gamma': 5e-05, 'coef0': -0.1}\n",
      "0.911 (+/-0.021) for {'kernel': 'sigmoid', 'C': 1, 'gamma': 0.0005, 'coef0': 0.1}\n",
      "0.940 (+/-0.029) for {'kernel': 'sigmoid', 'C': 1, 'gamma': 0.0001, 'coef0': 0.1}\n",
      "0.922 (+/-0.037) for {'kernel': 'sigmoid', 'C': 1, 'gamma': 5e-05, 'coef0': 0.1}\n",
      "0.824 (+/-0.050) for {'kernel': 'sigmoid', 'C': 10, 'gamma': 0.0005, 'coef0': 0}\n",
      "0.972 (+/-0.037) for {'kernel': 'sigmoid', 'C': 10, 'gamma': 0.0001, 'coef0': 0}\n",
      "0.969 (+/-0.030) for {'kernel': 'sigmoid', 'C': 10, 'gamma': 5e-05, 'coef0': 0}\n",
      "0.835 (+/-0.051) for {'kernel': 'sigmoid', 'C': 10, 'gamma': 0.0005, 'coef0': -0.1}\n",
      "0.974 (+/-0.038) for {'kernel': 'sigmoid', 'C': 10, 'gamma': 0.0001, 'coef0': -0.1}\n",
      "0.969 (+/-0.030) for {'kernel': 'sigmoid', 'C': 10, 'gamma': 5e-05, 'coef0': -0.1}\n",
      "0.824 (+/-0.044) for {'kernel': 'sigmoid', 'C': 10, 'gamma': 0.0005, 'coef0': 0.1}\n",
      "0.972 (+/-0.037) for {'kernel': 'sigmoid', 'C': 10, 'gamma': 0.0001, 'coef0': 0.1}\n",
      "0.968 (+/-0.029) for {'kernel': 'sigmoid', 'C': 10, 'gamma': 5e-05, 'coef0': 0.1}\n",
      "0.807 (+/-0.041) for {'kernel': 'sigmoid', 'C': 100, 'gamma': 0.0005, 'coef0': 0}\n",
      "0.978 (+/-0.019) for {'kernel': 'sigmoid', 'C': 100, 'gamma': 0.0001, 'coef0': 0}\n",
      "0.977 (+/-0.025) for {'kernel': 'sigmoid', 'C': 100, 'gamma': 5e-05, 'coef0': 0}\n",
      "0.817 (+/-0.012) for {'kernel': 'sigmoid', 'C': 100, 'gamma': 0.0005, 'coef0': -0.1}\n",
      "0.979 (+/-0.021) for {'kernel': 'sigmoid', 'C': 100, 'gamma': 0.0001, 'coef0': -0.1}\n",
      "0.977 (+/-0.025) for {'kernel': 'sigmoid', 'C': 100, 'gamma': 5e-05, 'coef0': -0.1}\n",
      "0.789 (+/-0.037) for {'kernel': 'sigmoid', 'C': 100, 'gamma': 0.0005, 'coef0': 0.1}\n",
      "0.976 (+/-0.018) for {'kernel': 'sigmoid', 'C': 100, 'gamma': 0.0001, 'coef0': 0.1}\n",
      "0.977 (+/-0.025) for {'kernel': 'sigmoid', 'C': 100, 'gamma': 5e-05, 'coef0': 0.1}\n",
      "0.796 (+/-0.035) for {'kernel': 'sigmoid', 'C': 1000, 'gamma': 0.0005, 'coef0': 0}\n",
      "0.975 (+/-0.016) for {'kernel': 'sigmoid', 'C': 1000, 'gamma': 0.0001, 'coef0': 0}\n",
      "0.978 (+/-0.016) for {'kernel': 'sigmoid', 'C': 1000, 'gamma': 5e-05, 'coef0': 0}\n",
      "0.805 (+/-0.034) for {'kernel': 'sigmoid', 'C': 1000, 'gamma': 0.0005, 'coef0': -0.1}\n",
      "0.975 (+/-0.016) for {'kernel': 'sigmoid', 'C': 1000, 'gamma': 0.0001, 'coef0': -0.1}\n",
      "0.980 (+/-0.019) for {'kernel': 'sigmoid', 'C': 1000, 'gamma': 5e-05, 'coef0': -0.1}\n",
      "0.791 (+/-0.032) for {'kernel': 'sigmoid', 'C': 1000, 'gamma': 0.0005, 'coef0': 0.1}\n",
      "0.972 (+/-0.020) for {'kernel': 'sigmoid', 'C': 1000, 'gamma': 0.0001, 'coef0': 0.1}\n",
      "0.977 (+/-0.015) for {'kernel': 'sigmoid', 'C': 1000, 'gamma': 5e-05, 'coef0': 0.1}\n",
      "\n",
      "Detailed classification report:\n",
      "\n",
      "The model is trained on the full development set.\n",
      "The scores are computed on the full evaluation set.\n",
      "\n",
      "             precision    recall  f1-score   support\n",
      "\n",
      "          0       1.00      1.00      1.00        89\n",
      "          1       0.94      0.94      0.94        90\n",
      "          2       0.99      0.99      0.99        92\n",
      "          3       0.94      0.99      0.96        93\n",
      "          4       0.99      1.00      0.99        76\n",
      "          5       0.95      0.96      0.95       108\n",
      "          6       0.99      0.99      0.99        89\n",
      "          7       0.99      1.00      0.99        78\n",
      "          8       0.92      0.88      0.90        92\n",
      "          9       0.97      0.91      0.94        92\n",
      "\n",
      "avg / total       0.97      0.97      0.97       899\n",
      "\n",
      "\n",
      "# Tuning hyper-parameters for recall\n",
      "\n",
      "Best parameters set found on development set:\n",
      "\n",
      "{'kernel': 'sigmoid', 'C': 1000, 'gamma': 5e-05, 'coef0': -0.1}\n",
      "\n",
      "Grid scores on development set:\n",
      "\n",
      "0.912 (+/-0.017) for {'kernel': 'sigmoid', 'C': 1, 'gamma': 0.0005, 'coef0': 0}\n",
      "0.939 (+/-0.028) for {'kernel': 'sigmoid', 'C': 1, 'gamma': 0.0001, 'coef0': 0}\n",
      "0.914 (+/-0.046) for {'kernel': 'sigmoid', 'C': 1, 'gamma': 5e-05, 'coef0': 0}\n",
      "0.911 (+/-0.021) for {'kernel': 'sigmoid', 'C': 1, 'gamma': 0.0005, 'coef0': -0.1}\n",
      "0.939 (+/-0.028) for {'kernel': 'sigmoid', 'C': 1, 'gamma': 0.0001, 'coef0': -0.1}\n",
      "0.915 (+/-0.048) for {'kernel': 'sigmoid', 'C': 1, 'gamma': 5e-05, 'coef0': -0.1}\n",
      "0.906 (+/-0.022) for {'kernel': 'sigmoid', 'C': 1, 'gamma': 0.0005, 'coef0': 0.1}\n",
      "0.937 (+/-0.032) for {'kernel': 'sigmoid', 'C': 1, 'gamma': 0.0001, 'coef0': 0.1}\n",
      "0.915 (+/-0.045) for {'kernel': 'sigmoid', 'C': 1, 'gamma': 5e-05, 'coef0': 0.1}\n",
      "0.798 (+/-0.040) for {'kernel': 'sigmoid', 'C': 10, 'gamma': 0.0005, 'coef0': 0}\n",
      "0.971 (+/-0.038) for {'kernel': 'sigmoid', 'C': 10, 'gamma': 0.0001, 'coef0': 0}\n",
      "0.968 (+/-0.031) for {'kernel': 'sigmoid', 'C': 10, 'gamma': 5e-05, 'coef0': 0}\n",
      "0.812 (+/-0.046) for {'kernel': 'sigmoid', 'C': 10, 'gamma': 0.0005, 'coef0': -0.1}\n",
      "0.973 (+/-0.040) for {'kernel': 'sigmoid', 'C': 10, 'gamma': 0.0001, 'coef0': -0.1}\n",
      "0.968 (+/-0.031) for {'kernel': 'sigmoid', 'C': 10, 'gamma': 5e-05, 'coef0': -0.1}\n",
      "0.802 (+/-0.039) for {'kernel': 'sigmoid', 'C': 10, 'gamma': 0.0005, 'coef0': 0.1}\n",
      "0.971 (+/-0.038) for {'kernel': 'sigmoid', 'C': 10, 'gamma': 0.0001, 'coef0': 0.1}\n",
      "0.967 (+/-0.029) for {'kernel': 'sigmoid', 'C': 10, 'gamma': 5e-05, 'coef0': 0.1}\n",
      "0.752 (+/-0.021) for {'kernel': 'sigmoid', 'C': 100, 'gamma': 0.0005, 'coef0': 0}\n",
      "0.977 (+/-0.019) for {'kernel': 'sigmoid', 'C': 100, 'gamma': 0.0001, 'coef0': 0}\n",
      "0.976 (+/-0.026) for {'kernel': 'sigmoid', 'C': 100, 'gamma': 5e-05, 'coef0': 0}\n",
      "0.764 (+/-0.033) for {'kernel': 'sigmoid', 'C': 100, 'gamma': 0.0005, 'coef0': -0.1}\n",
      "0.978 (+/-0.021) for {'kernel': 'sigmoid', 'C': 100, 'gamma': 0.0001, 'coef0': -0.1}\n",
      "0.976 (+/-0.026) for {'kernel': 'sigmoid', 'C': 100, 'gamma': 5e-05, 'coef0': -0.1}\n",
      "0.739 (+/-0.006) for {'kernel': 'sigmoid', 'C': 100, 'gamma': 0.0005, 'coef0': 0.1}\n",
      "0.974 (+/-0.018) for {'kernel': 'sigmoid', 'C': 100, 'gamma': 0.0001, 'coef0': 0.1}\n",
      "0.976 (+/-0.026) for {'kernel': 'sigmoid', 'C': 100, 'gamma': 5e-05, 'coef0': 0.1}\n",
      "0.741 (+/-0.025) for {'kernel': 'sigmoid', 'C': 1000, 'gamma': 0.0005, 'coef0': 0}\n",
      "0.973 (+/-0.017) for {'kernel': 'sigmoid', 'C': 1000, 'gamma': 0.0001, 'coef0': 0}\n",
      "0.977 (+/-0.016) for {'kernel': 'sigmoid', 'C': 1000, 'gamma': 5e-05, 'coef0': 0}\n",
      "0.753 (+/-0.039) for {'kernel': 'sigmoid', 'C': 1000, 'gamma': 0.0005, 'coef0': -0.1}\n",
      "0.973 (+/-0.017) for {'kernel': 'sigmoid', 'C': 1000, 'gamma': 0.0001, 'coef0': -0.1}\n",
      "0.979 (+/-0.019) for {'kernel': 'sigmoid', 'C': 1000, 'gamma': 5e-05, 'coef0': -0.1}\n",
      "0.737 (+/-0.014) for {'kernel': 'sigmoid', 'C': 1000, 'gamma': 0.0005, 'coef0': 0.1}\n",
      "0.971 (+/-0.021) for {'kernel': 'sigmoid', 'C': 1000, 'gamma': 0.0001, 'coef0': 0.1}\n",
      "0.976 (+/-0.015) for {'kernel': 'sigmoid', 'C': 1000, 'gamma': 5e-05, 'coef0': 0.1}\n",
      "\n",
      "Detailed classification report:\n",
      "\n",
      "The model is trained on the full development set.\n",
      "The scores are computed on the full evaluation set.\n",
      "\n",
      "             precision    recall  f1-score   support\n",
      "\n",
      "          0       1.00      1.00      1.00        89\n",
      "          1       0.94      0.94      0.94        90\n",
      "          2       0.99      0.99      0.99        92\n",
      "          3       0.94      0.99      0.96        93\n",
      "          4       0.99      1.00      0.99        76\n",
      "          5       0.95      0.96      0.95       108\n",
      "          6       0.99      0.99      0.99        89\n",
      "          7       0.99      1.00      0.99        78\n",
      "          8       0.92      0.88      0.90        92\n",
      "          9       0.97      0.91      0.94        92\n",
      "\n",
      "avg / total       0.97      0.97      0.97       899\n",
      "\n",
      "\n"
     ]
    }
   ],
   "source": [
    "for score in scores:\n",
    "    print(\"# Tuning hyper-parameters for %s\" % score)\n",
    "    print()\n",
    "\n",
    "    clf = GridSearchCV(SVC(C=1), tuned_parameters, cv=5,\n",
    "                       scoring='%s_weighted' % score)\n",
    "    clf.fit(X_train, y_train)\n",
    "\n",
    "    print(\"Best parameters set found on development set:\")\n",
    "    print()\n",
    "    print(clf.best_params_)\n",
    "    print()\n",
    "    print(\"Grid scores on development set:\")\n",
    "    print()\n",
    "    for params, mean_score, scores in clf.grid_scores_:\n",
    "        print(\"%0.3f (+/-%0.03f) for %r\"\n",
    "              % (mean_score, scores.std() * 2, params))\n",
    "    print()\n",
    "\n",
    "    print(\"Detailed classification report:\")\n",
    "    print()\n",
    "    print(\"The model is trained on the full development set.\")\n",
    "    print(\"The scores are computed on the full evaluation set.\")\n",
    "    print()\n",
    "    y_true, y_pred = y_test, clf.predict(X_test)\n",
    "    print(classification_report(y_true, y_pred))\n",
    "    print()\n",
    "\n",
    "# Note the problem is too easy: the hyperparameter plateau is too flat and the\n",
    "# output model is the same for precision and recall with ties in quality."
   ]
  }
 ],
 "metadata": {
  "kernelspec": {
   "display_name": "Python 3",
   "language": "python",
   "name": "python3"
  },
  "language_info": {
   "codemirror_mode": {
    "name": "ipython",
    "version": 3
   },
   "file_extension": ".py",
   "mimetype": "text/x-python",
   "name": "python",
   "nbconvert_exporter": "python",
   "pygments_lexer": "ipython3",
   "version": "3.4.3"
  }
 },
 "nbformat": 4,
 "nbformat_minor": 0
}
